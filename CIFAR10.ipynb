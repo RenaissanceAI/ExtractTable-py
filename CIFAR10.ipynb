{
  "nbformat": 4,
  "nbformat_minor": 0,
  "metadata": {
    "colab": {
      "name": "CIFAR10.ipynb",
      "provenance": [],
      "collapsed_sections": [],
      "include_colab_link": true
    },
    "kernelspec": {
      "name": "python3",
      "display_name": "Python 3"
    },
    "accelerator": "GPU"
  },
  "cells": [
    {
      "cell_type": "markdown",
      "metadata": {
        "id": "view-in-github",
        "colab_type": "text"
      },
      "source": [
        "<a href=\"https://colab.research.google.com/github/RenaissanceAI/ExtractTable-py/blob/master/CIFAR10.ipynb\" target=\"_parent\"><img src=\"https://colab.research.google.com/assets/colab-badge.svg\" alt=\"Open In Colab\"/></a>"
      ]
    },
    {
      "cell_type": "markdown",
      "metadata": {
        "id": "Ee5iuxsh0wlZ",
        "colab_type": "text"
      },
      "source": [
        "# CIFAR10 with Keras and CNN\n",
        "Testing Keras' CNNs on CIFAR10 with a pretty typical layer disposition."
      ]
    },
    {
      "cell_type": "markdown",
      "metadata": {
        "id": "_0iZwcOO0s75",
        "colab_type": "text"
      },
      "source": [
        "## Data Setup"
      ]
    },
    {
      "cell_type": "code",
      "metadata": {
        "id": "24mgFn4gLrYl",
        "colab_type": "code",
        "outputId": "c32d085e-49a7-4674-dbf1-12956b0a5ca5",
        "colab": {
          "base_uri": "https://localhost:8080/",
          "height": 34
        }
      },
      "source": [
        "from keras.datasets import cifar10"
      ],
      "execution_count": 0,
      "outputs": [
        {
          "output_type": "stream",
          "text": [
            "Using TensorFlow backend.\n"
          ],
          "name": "stderr"
        }
      ]
    },
    {
      "cell_type": "code",
      "metadata": {
        "id": "7fy6Ncisq1q_",
        "colab_type": "code",
        "colab": {}
      },
      "source": [
        "(x_train, y_train_), (x_test, y_test_) = cifar10.load_data()"
      ],
      "execution_count": 0,
      "outputs": []
    },
    {
      "cell_type": "code",
      "metadata": {
        "id": "Rok3es7FTZz9",
        "colab_type": "code",
        "colab": {}
      },
      "source": [
        "x_train = x_train.astype('float32') / 255\n",
        "x_test = x_test.astype('float32') / 255"
      ],
      "execution_count": 0,
      "outputs": []
    },
    {
      "cell_type": "code",
      "metadata": {
        "id": "-8GIUxRcq_Yc",
        "colab_type": "code",
        "colab": {}
      },
      "source": [
        "from keras.utils import to_categorical\n",
        "y_train = to_categorical(y_train_)\n",
        "y_test = to_categorical(y_test_)"
      ],
      "execution_count": 0,
      "outputs": []
    },
    {
      "cell_type": "markdown",
      "metadata": {
        "id": "HB4tl71n5NRo",
        "colab_type": "text"
      },
      "source": [
        "## Model Definition"
      ]
    },
    {
      "cell_type": "code",
      "metadata": {
        "id": "OGrAd2LbriPX",
        "colab_type": "code",
        "colab": {}
      },
      "source": [
        "from keras.models import Sequential\n",
        "model = Sequential()"
      ],
      "execution_count": 0,
      "outputs": []
    },
    {
      "cell_type": "code",
      "metadata": {
        "id": "J4pdQYierpzz",
        "colab_type": "code",
        "colab": {}
      },
      "source": [
        "from keras.layers import Conv2D, MaxPool2D, Flatten, Dense"
      ],
      "execution_count": 0,
      "outputs": []
    },
    {
      "cell_type": "code",
      "metadata": {
        "id": "CkduO2Qwrxpq",
        "colab_type": "code",
        "colab": {}
      },
      "source": [
        "model.add(Conv2D(filters=32, \n",
        "                kernel_size=(3, 3),\n",
        "                activation='relu',\n",
        "                input_shape=(32, 32, 3)))"
      ],
      "execution_count": 0,
      "outputs": []
    },
    {
      "cell_type": "code",
      "metadata": {
        "id": "C0QJU8DqsR0i",
        "colab_type": "code",
        "colab": {}
      },
      "source": [
        "model.add(MaxPool2D())"
      ],
      "execution_count": 0,
      "outputs": []
    },
    {
      "cell_type": "code",
      "metadata": {
        "id": "STmwgb-asj4Q",
        "colab_type": "code",
        "colab": {}
      },
      "source": [
        "model.add(Conv2D(filters=64,\n",
        "                kernel_size=(3, 3),\n",
        "                activation='relu'))\n",
        "model.add(MaxPool2D())"
      ],
      "execution_count": 0,
      "outputs": []
    },
    {
      "cell_type": "code",
      "metadata": {
        "id": "6Wshm4jttByn",
        "colab_type": "code",
        "colab": {}
      },
      "source": [
        "model.add(Flatten())\n",
        "model.add(Dense(10, activation='softmax'))"
      ],
      "execution_count": 0,
      "outputs": []
    },
    {
      "cell_type": "code",
      "metadata": {
        "id": "30lPhgq2tSGh",
        "colab_type": "code",
        "colab": {}
      },
      "source": [
        "model.compile(optimizer='adam',\n",
        "             loss='categorical_crossentropy',\n",
        "             metrics=['accuracy'])"
      ],
      "execution_count": 0,
      "outputs": []
    },
    {
      "cell_type": "code",
      "metadata": {
        "id": "ENUF_8Z_2PWS",
        "colab_type": "code",
        "outputId": "5c2133a7-8b85-45b0-d687-eea715af3450",
        "colab": {
          "base_uri": "https://localhost:8080/",
          "height": 357
        }
      },
      "source": [
        "print(model.summary())"
      ],
      "execution_count": 0,
      "outputs": [
        {
          "output_type": "stream",
          "text": [
            "_________________________________________________________________\n",
            "Layer (type)                 Output Shape              Param #   \n",
            "=================================================================\n",
            "conv2d_1 (Conv2D)            (None, 30, 30, 32)        896       \n",
            "_________________________________________________________________\n",
            "max_pooling2d_1 (MaxPooling2 (None, 15, 15, 32)        0         \n",
            "_________________________________________________________________\n",
            "conv2d_2 (Conv2D)            (None, 13, 13, 64)        18496     \n",
            "_________________________________________________________________\n",
            "max_pooling2d_2 (MaxPooling2 (None, 6, 6, 64)          0         \n",
            "_________________________________________________________________\n",
            "flatten_1 (Flatten)          (None, 2304)              0         \n",
            "_________________________________________________________________\n",
            "dense_1 (Dense)              (None, 10)                23050     \n",
            "=================================================================\n",
            "Total params: 42,442\n",
            "Trainable params: 42,442\n",
            "Non-trainable params: 0\n",
            "_________________________________________________________________\n",
            "None\n"
          ],
          "name": "stdout"
        }
      ]
    },
    {
      "cell_type": "markdown",
      "metadata": {
        "id": "6xnTf9mfyxqh",
        "colab_type": "text"
      },
      "source": [
        "## Fitting"
      ]
    },
    {
      "cell_type": "code",
      "metadata": {
        "id": "POFObjd0td4x",
        "colab_type": "code",
        "outputId": "70560ef4-2347-4be6-c57f-c04dc788ea2f",
        "colab": {
          "base_uri": "https://localhost:8080/",
          "height": 564
        }
      },
      "source": [
        "history = model.fit(x_train, y_train, batch_size=50, epochs=15, verbose=1, validation_data=(x_test, y_test))"
      ],
      "execution_count": 0,
      "outputs": [
        {
          "output_type": "stream",
          "text": [
            "Train on 50000 samples, validate on 10000 samples\n",
            "Epoch 1/15\n",
            "50000/50000 [==============================] - 14s 277us/step - loss: 1.5254 - acc: 0.4570 - val_loss: 1.2749 - val_acc: 0.5561\n",
            "Epoch 2/15\n",
            "50000/50000 [==============================] - 12s 245us/step - loss: 1.1743 - acc: 0.5912 - val_loss: 1.1162 - val_acc: 0.6120\n",
            "Epoch 3/15\n",
            " 6500/50000 [==>...........................] - ETA: 9s - loss: 1.0544 - acc: 0.6334"
          ],
          "name": "stdout"
        },
        {
          "output_type": "stream",
          "text": [
            "50000/50000 [==============================] - 12s 244us/step - loss: 1.0489 - acc: 0.6380 - val_loss: 1.0281 - val_acc: 0.6404\n",
            "Epoch 4/15\n",
            "50000/50000 [==============================] - 12s 245us/step - loss: 0.9765 - acc: 0.6647 - val_loss: 0.9727 - val_acc: 0.6694\n",
            "Epoch 5/15\n",
            "25550/50000 [==============>...............] - ETA: 5s - loss: 0.9281 - acc: 0.6757"
          ],
          "name": "stdout"
        },
        {
          "output_type": "stream",
          "text": [
            "50000/50000 [==============================] - 12s 247us/step - loss: 0.9184 - acc: 0.6821 - val_loss: 0.9511 - val_acc: 0.6754\n",
            "Epoch 6/15\n",
            "50000/50000 [==============================] - 12s 243us/step - loss: 0.8771 - acc: 0.6995 - val_loss: 0.9850 - val_acc: 0.6576\n",
            "Epoch 7/15\n",
            "30950/50000 [=================>............] - ETA: 4s - loss: 0.8351 - acc: 0.7155"
          ],
          "name": "stdout"
        },
        {
          "output_type": "stream",
          "text": [
            "50000/50000 [==============================] - 12s 246us/step - loss: 0.8389 - acc: 0.7138 - val_loss: 0.9164 - val_acc: 0.6873\n",
            "Epoch 8/15\n",
            "50000/50000 [==============================] - 12s 246us/step - loss: 0.8058 - acc: 0.7240 - val_loss: 0.9307 - val_acc: 0.6818\n",
            "Epoch 9/15\n",
            "31900/50000 [==================>...........] - ETA: 4s - loss: 0.7780 - acc: 0.7342"
          ],
          "name": "stdout"
        },
        {
          "output_type": "stream",
          "text": [
            "50000/50000 [==============================] - 12s 246us/step - loss: 0.7814 - acc: 0.7325 - val_loss: 0.8895 - val_acc: 0.6974\n",
            "Epoch 10/15\n",
            "50000/50000 [==============================] - 12s 245us/step - loss: 0.7521 - acc: 0.7443 - val_loss: 0.9377 - val_acc: 0.6855\n",
            "Epoch 11/15\n",
            "32150/50000 [==================>...........] - ETA: 4s - loss: 0.7288 - acc: 0.7520"
          ],
          "name": "stdout"
        },
        {
          "output_type": "stream",
          "text": [
            "50000/50000 [==============================] - 12s 244us/step - loss: 0.7331 - acc: 0.7490 - val_loss: 0.9031 - val_acc: 0.6970\n",
            "Epoch 12/15\n",
            "50000/50000 [==============================] - 12s 247us/step - loss: 0.7125 - acc: 0.7552 - val_loss: 0.8983 - val_acc: 0.6990\n",
            "Epoch 13/15\n",
            "31150/50000 [=================>............] - ETA: 4s - loss: 0.6809 - acc: 0.7668"
          ],
          "name": "stdout"
        },
        {
          "output_type": "stream",
          "text": [
            "50000/50000 [==============================] - 12s 247us/step - loss: 0.6893 - acc: 0.7634 - val_loss: 0.8853 - val_acc: 0.7054\n",
            "Epoch 14/15\n",
            "50000/50000 [==============================] - 12s 246us/step - loss: 0.6720 - acc: 0.7705 - val_loss: 0.9015 - val_acc: 0.7005\n",
            "Epoch 15/15\n",
            "31400/50000 [=================>............] - ETA: 4s - loss: 0.6483 - acc: 0.7787"
          ],
          "name": "stdout"
        },
        {
          "output_type": "stream",
          "text": [
            "50000/50000 [==============================] - 12s 246us/step - loss: 0.6569 - acc: 0.7750 - val_loss: 0.9066 - val_acc: 0.6990\n"
          ],
          "name": "stdout"
        }
      ]
    },
    {
      "cell_type": "code",
      "metadata": {
        "id": "D6esbeHWT70i",
        "colab_type": "code",
        "outputId": "80be65b2-1f18-4490-e2a9-1510e93efa04",
        "colab": {
          "base_uri": "https://localhost:8080/",
          "height": 376
        }
      },
      "source": [
        "import matplotlib.pyplot as plt\n",
        "\n",
        "history_dict = history.history\n",
        "loss_values = history_dict['loss']\n",
        "val_loss_values = history_dict['val_loss']\n",
        "\n",
        "epochs = range(1, len(history_dict['acc']) + 1)\n",
        "\n",
        "plt.plot(epochs, loss_values, 'bo', label='Training loss')\n",
        "plt.plot(epochs, val_loss_values, 'b', label='Validation loss')\n",
        "plt.title('Training and validation loss')\n",
        "plt.xlabel('Epochs')\n",
        "plt.ylabel('Loss')\n",
        "plt.legend()\n",
        "\n",
        "plt.show()"
      ],
      "execution_count": 0,
      "outputs": [
        {
          "output_type": "display_data",
          "data": {
            "image/png": "[encoded data removed]",
            "text/plain": [
              "<matplotlib.figure.Figure at 0x7fc6e5253a58>"
            ]
          },
          "metadata": {
            "tags": []
          }
        }
      ]
    }
  ]
}